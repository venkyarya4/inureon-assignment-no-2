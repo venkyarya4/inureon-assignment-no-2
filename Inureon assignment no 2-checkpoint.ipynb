{
 "cells": [
  {
   "cell_type": "code",
   "execution_count": 20,
   "metadata": {},
   "outputs": [
    {
     "name": "stdout",
     "output_type": "stream",
     "text": [
      "enter the number of rows\n",
      "5\n",
      "*\n",
      "**\n",
      "***\n",
      "****\n",
      "*****\n",
      "****\n",
      "***\n",
      "**\n",
      "*\n"
     ]
    }
   ],
   "source": [
    "no_of_rows=int(input('enter the number of rows\\n'))\n",
    "for rows in range(1,no_of_rows+1):\n",
    "    for column in range(1,rows+1):\n",
    "        print('*',end='')\n",
    "    print()\n",
    "\n",
    "for rows in range(no_of_rows-1,0,-1):\n",
    "    for column in range(1,rows+1):\n",
    "        print('*',end='')\n",
    "    print()"
   ]
  },
  {
   "cell_type": "code",
   "execution_count": 23,
   "metadata": {},
   "outputs": [
    {
     "name": "stdout",
     "output_type": "stream",
     "text": [
      "enter a word you want to reverse\n",
      "venky\n",
      "yknev\n"
     ]
    }
   ],
   "source": [
    "word=input('enter a word you want to reverse\\n')\n",
    "print(word[::-1])"
   ]
  },
  {
   "cell_type": "code",
   "execution_count": null,
   "metadata": {},
   "outputs": [],
   "source": []
  }
 ],
 "metadata": {
  "kernelspec": {
   "display_name": "Python 3",
   "language": "python",
   "name": "python3"
  },
  "language_info": {
   "codemirror_mode": {
    "name": "ipython",
    "version": 3
   },
   "file_extension": ".py",
   "mimetype": "text/x-python",
   "name": "python",
   "nbconvert_exporter": "python",
   "pygments_lexer": "ipython3",
   "version": "3.7.4"
  }
 },
 "nbformat": 4,
 "nbformat_minor": 2
}
